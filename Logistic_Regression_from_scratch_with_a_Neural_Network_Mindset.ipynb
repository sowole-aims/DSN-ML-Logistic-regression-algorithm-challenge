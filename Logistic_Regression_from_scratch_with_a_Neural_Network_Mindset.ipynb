{
  "nbformat": 4,
  "nbformat_minor": 0,
  "metadata": {
    "colab": {
      "provenance": [],
      "authorship_tag": "ABX9TyMx9HssYvAZ0kHy7A3BW69L",
      "include_colab_link": true
    },
    "kernelspec": {
      "name": "python3",
      "display_name": "Python 3"
    },
    "language_info": {
      "name": "python"
    }
  },
  "cells": [
    {
      "cell_type": "markdown",
      "metadata": {
        "id": "view-in-github",
        "colab_type": "text"
      },
      "source": [
        "<a href=\"https://colab.research.google.com/github/sowole-aims/Logistic-regression-algorithm-with-Neural-Network-Mindset/blob/master/Logistic_Regression_from_scratch_with_a_Neural_Network_Mindset.ipynb\" target=\"_parent\"><img src=\"https://colab.research.google.com/assets/colab-badge.svg\" alt=\"Open In Colab\"/></a>"
      ]
    },
    {
      "cell_type": "code",
      "execution_count": 1,
      "metadata": {
        "id": "IuewDMHpF7CW"
      },
      "outputs": [],
      "source": [
        "# import numpy\n",
        "import numpy as np\n",
        "# Step 1: Data Generation\n",
        "np.random.seed(0)\n",
        "X = np.random.randn(10000, 2)  # 10,000 samples, 2 features\n",
        "Y = (np.dot(X, [2., -1.]) + 1. > 0).astype(int)  # Binary target"
      ]
    },
    {
      "cell_type": "code",
      "source": [
        "# Step 2: Define Sigmoid Function\n",
        "def sigmoid(z):\n",
        "    return 1 / (1 + np.exp(-z))"
      ],
      "metadata": {
        "id": "DgdEIxynGHu0"
      },
      "execution_count": 2,
      "outputs": []
    },
    {
      "cell_type": "code",
      "source": [
        "# Step 3: Define Model Prediction function\n",
        "def predict(X, weights):\n",
        "    return sigmoid(np.dot(X, weights))"
      ],
      "metadata": {
        "id": "BhmVgnrPGSZo"
      },
      "execution_count": 3,
      "outputs": []
    },
    {
      "cell_type": "code",
      "source": [
        "# Step 4: Define Cost Function\n",
        "def compute_cost(Y, predictions):\n",
        "    m = len(Y)\n",
        "    return -(1/m) * np.sum(Y * np.log(predictions) + (1 - Y) * np.log(1 - predictions))\n"
      ],
      "metadata": {
        "id": "FJ2zn7ZvGdr6"
      },
      "execution_count": 4,
      "outputs": []
    },
    {
      "cell_type": "code",
      "source": [
        "# Step 5: Gradient Descent\n",
        "def gradient_descent(X, Y, weights, learning_rate, iterations):\n",
        "    m = len(Y)\n",
        "    for i in range(iterations):\n",
        "        predictions = predict(X, weights)\n",
        "        weights -= (learning_rate/m) * np.dot(X.T, (predictions - Y))\n",
        "        cost = compute_cost(Y, predictions)\n",
        "        if i % 100 == 0:\n",
        "            print(f\"Iteration {i}, Cost: {cost}\")\n",
        "    return weights\n"
      ],
      "metadata": {
        "id": "vkxjQe-JGiR9"
      },
      "execution_count": 5,
      "outputs": []
    },
    {
      "cell_type": "code",
      "source": [
        "# Step 6: Training Loop\n",
        "weights = np.zeros(X.shape[1])\n",
        "learning_rate = 0.01\n",
        "iterations = 1000\n",
        "weights = gradient_descent(X, Y, weights, learning_rate, iterations)\n"
      ],
      "metadata": {
        "colab": {
          "base_uri": "https://localhost:8080/"
        },
        "id": "qLDs4OmDGm1W",
        "outputId": "a337d927-82fa-4668-e276-25d765e42d21"
      },
      "execution_count": 6,
      "outputs": [
        {
          "output_type": "stream",
          "name": "stdout",
          "text": [
            "Iteration 0, Cost: 0.6931471805599453\n",
            "Iteration 100, Cost: 0.5930381276892498\n",
            "Iteration 200, Cost: 0.5297493487740597\n",
            "Iteration 300, Cost: 0.4873920785867299\n",
            "Iteration 400, Cost: 0.45743419013134\n",
            "Iteration 500, Cost: 0.43526240092157825\n",
            "Iteration 600, Cost: 0.4182516621071398\n",
            "Iteration 700, Cost: 0.4048219385880116\n",
            "Iteration 800, Cost: 0.3939725815661328\n",
            "Iteration 900, Cost: 0.3850415557160667\n"
          ]
        }
      ]
    },
    {
      "cell_type": "code",
      "source": [
        "# Step 7: Evaluation\n",
        "predictions = predict(X, weights)\n",
        "accuracy = np.mean(predictions.round() == Y)\n",
        "print(f\"Accuracy: {accuracy * 100}%\")"
      ],
      "metadata": {
        "colab": {
          "base_uri": "https://localhost:8080/"
        },
        "id": "dLGIqK9-Gpxu",
        "outputId": "70d57177-5672-4e40-8ec4-a88c866d1ad7"
      },
      "execution_count": 7,
      "outputs": [
        {
          "output_type": "stream",
          "name": "stdout",
          "text": [
            "Accuracy: 82.21000000000001%\n"
          ]
        }
      ]
    },
    {
      "cell_type": "code",
      "source": [],
      "metadata": {
        "id": "V1DkmQSnGv2l"
      },
      "execution_count": 7,
      "outputs": []
    }
  ]
}